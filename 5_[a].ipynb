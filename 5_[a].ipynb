{
  "nbformat": 4,
  "nbformat_minor": 0,
  "metadata": {
    "colab": {
      "name": "5-[a]",
      "provenance": [],
      "authorship_tag": "ABX9TyMXIh0n/PK1dKxWwB6TZPSP",
      "include_colab_link": true
    },
    "kernelspec": {
      "name": "python3",
      "display_name": "Python 3"
    },
    "language_info": {
      "name": "python"
    }
  },
  "cells": [
    {
      "cell_type": "markdown",
      "metadata": {
        "id": "view-in-github",
        "colab_type": "text"
      },
      "source": [
        "<a href=\"https://colab.research.google.com/github/MohammedVajeeha/Python-lab-programs/blob/main/5_%5Ba%5D.ipynb\" target=\"_parent\"><img src=\"https://colab.research.google.com/assets/colab-badge.svg\" alt=\"Open In Colab\"/></a>"
      ]
    },
    {
      "cell_type": "code",
      "metadata": {
        "id": "Yzbf-LVtpcWr"
      },
      "source": [
        "write a program to count the number of characters in the string and store them in dictionary datastructure"
      ],
      "execution_count": null,
      "outputs": []
    },
    {
      "cell_type": "code",
      "metadata": {
        "id": "pWmnLy7cpc95"
      },
      "source": [
        "name=input(\"enter Name\")\n",
        "dic={}\n",
        "  \n",
        "for ch in name:\n",
        "  keys=dic.keys()\n",
        "  \n",
        "  if(ch in keys):\n",
        "      \n",
        "    dic[ch]-dic[ch]+1 \n",
        "  else:\n",
        "    dic[ch]=1 \n",
        "  \n",
        "  print(\"dictionary is\",dic)\n"
      ],
      "execution_count": null,
      "outputs": []
    }
  ]
}