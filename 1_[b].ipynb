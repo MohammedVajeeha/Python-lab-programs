{
  "nbformat": 4,
  "nbformat_minor": 0,
  "metadata": {
    "colab": {
      "name": "1-[b]",
      "provenance": [],
      "authorship_tag": "ABX9TyPUDPxwUtQAobnvK5xv3JDU",
      "include_colab_link": true
    },
    "kernelspec": {
      "name": "python3",
      "display_name": "Python 3"
    },
    "language_info": {
      "name": "python"
    }
  },
  "cells": [
    {
      "cell_type": "markdown",
      "metadata": {
        "id": "view-in-github",
        "colab_type": "text"
      },
      "source": [
        "<a href=\"https://colab.research.google.com/github/MohammedVajeeha/Python-lab-programs/blob/main/1_%5Bb%5D.ipynb\" target=\"_parent\"><img src=\"https://colab.research.google.com/assets/colab-badge.svg\" alt=\"Open In Colab\"/></a>"
      ]
    },
    {
      "cell_type": "code",
      "metadata": {
        "id": "t0z4HTxnco8E"
      },
      "source": [
        "write a program to find the big value in given values"
      ],
      "execution_count": null,
      "outputs": []
    },
    {
      "cell_type": "code",
      "metadata": {
        "id": "8BPpRZKxcqNC"
      },
      "source": [
        "u=10\n",
        "v=20\n",
        "if a>b:\n",
        " print(\"u is big\")\n",
        "else:\n",
        " print(\"v is big\")"
      ],
      "execution_count": null,
      "outputs": []
    }
  ]
}