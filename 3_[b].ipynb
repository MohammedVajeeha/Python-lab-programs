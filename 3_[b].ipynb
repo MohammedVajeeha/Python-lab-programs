{
  "nbformat": 4,
  "nbformat_minor": 0,
  "metadata": {
    "colab": {
      "name": "3-[b]",
      "provenance": [],
      "authorship_tag": "ABX9TyMUTmD0YXgzE4+qeRTsubQK",
      "include_colab_link": true
    },
    "kernelspec": {
      "name": "python3",
      "display_name": "Python 3"
    },
    "language_info": {
      "name": "python"
    }
  },
  "cells": [
    {
      "cell_type": "markdown",
      "metadata": {
        "id": "view-in-github",
        "colab_type": "text"
      },
      "source": [
        "<a href=\"https://colab.research.google.com/github/MohammedVajeeha/Python-lab-programs/blob/main/3_%5Bb%5D.ipynb\" target=\"_parent\"><img src=\"https://colab.research.google.com/assets/colab-badge.svg\" alt=\"Open In Colab\"/></a>"
      ]
    },
    {
      "cell_type": "code",
      "metadata": {
        "id": "oMCn65sXZem9"
      },
      "source": [
        "Write a program to print decimal equivalants 1/2,1/3.....1/10 using loop"
      ],
      "execution_count": null,
      "outputs": []
    },
    {
      "cell_type": "code",
      "metadata": {
        "id": "PU8niJBkZfMS"
      },
      "source": [
        "n=int(input(\"ENTER ENDING NUMBER\"))\n",
        "for i in range(2,n):\n",
        "     d=1/i \n",
        "     print(\"1/\"+str(i)+\"=\",d)"
      ],
      "execution_count": null,
      "outputs": []
    }
  ]
}