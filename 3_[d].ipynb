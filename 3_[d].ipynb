{
  "nbformat": 4,
  "nbformat_minor": 0,
  "metadata": {
    "colab": {
      "name": "3-[d]",
      "provenance": [],
      "authorship_tag": "ABX9TyODM0rN6RdDzhabeyH6NHpd",
      "include_colab_link": true
    },
    "kernelspec": {
      "name": "python3",
      "display_name": "Python 3"
    },
    "language_info": {
      "name": "python"
    }
  },
  "cells": [
    {
      "cell_type": "markdown",
      "metadata": {
        "id": "view-in-github",
        "colab_type": "text"
      },
      "source": [
        "<a href=\"https://colab.research.google.com/github/MohammedVajeeha/Python-lab-programs/blob/main/3_%5Bd%5D.ipynb\" target=\"_parent\"><img src=\"https://colab.research.google.com/assets/colab-badge.svg\" alt=\"Open In Colab\"/></a>"
      ]
    },
    {
      "cell_type": "code",
      "metadata": {
        "id": "pNaUDW-QfGr_"
      },
      "source": [
        "write a program using for loop that asks user for a number , and prints a coountdowwn  from that number to zero"
      ],
      "execution_count": null,
      "outputs": []
    },
    {
      "cell_type": "code",
      "metadata": {
        "id": "APYUSU3HfHUj"
      },
      "source": [
        "num=int(input(\"enter the value:\"))\n",
        "while num>=0:\n",
        " print(num)\n",
        " num-=1 "
      ],
      "execution_count": null,
      "outputs": []
    }
  ]
}