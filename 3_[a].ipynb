{
  "nbformat": 4,
  "nbformat_minor": 0,
  "metadata": {
    "colab": {
      "name": "3-[a]",
      "provenance": [],
      "authorship_tag": "ABX9TyMwdMsHHE3xwbqTWA9WLAqO",
      "include_colab_link": true
    },
    "kernelspec": {
      "name": "python3",
      "display_name": "Python 3"
    },
    "language_info": {
      "name": "python"
    }
  },
  "cells": [
    {
      "cell_type": "markdown",
      "metadata": {
        "id": "view-in-github",
        "colab_type": "text"
      },
      "source": [
        "<a href=\"https://colab.research.google.com/github/MohammedVajeeha/Python-lab-programs/blob/main/3_%5Ba%5D.ipynb\" target=\"_parent\"><img src=\"https://colab.research.google.com/assets/colab-badge.svg\" alt=\"Open In Colab\"/></a>"
      ]
    },
    {
      "cell_type": "code",
      "metadata": {
        "id": "v87rqJzCA98v"
      },
      "source": [
        "write a program for checking whether given number is even or not"
      ],
      "execution_count": null,
      "outputs": []
    },
    {
      "cell_type": "code",
      "metadata": {
        "id": "8Ev-dH6XBDi7"
      },
      "source": [
        "num=int(input(\"Enter value:\"))\n",
        "if (num%2!=0):\n",
        "  print(num,\"is an ODD number\")\n",
        "else:\n",
        "  print(num,\"is an EVEN number\")"
      ],
      "execution_count": null,
      "outputs": []
    }
  ]
}