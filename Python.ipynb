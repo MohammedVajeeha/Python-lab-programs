{
  "nbformat": 4,
  "nbformat_minor": 0,
  "metadata": {
    "colab": {
      "name": " Python",
      "provenance": [],
      "authorship_tag": "ABX9TyOVnSP9xbpAM7F0YLCdx7FB",
      "include_colab_link": true
    },
    "kernelspec": {
      "name": "python3",
      "display_name": "Python 3"
    },
    "language_info": {
      "name": "python"
    }
  },
  "cells": [
    {
      "cell_type": "markdown",
      "metadata": {
        "id": "view-in-github",
        "colab_type": "text"
      },
      "source": [
        "<a href=\"https://colab.research.google.com/github/MohammedVajeeha/Python-lab-programs/blob/main/Python.ipynb\" target=\"_parent\"><img src=\"https://colab.research.google.com/assets/colab-badge.svg\" alt=\"Open In Colab\"/></a>"
      ]
    },
    {
      "cell_type": "markdown",
      "metadata": {
        "id": "AedDoB8IC8OO"
      },
      "source": [
        "## ***PYTHON PROGRAMS***"
      ]
    },
    {
      "cell_type": "markdown",
      "metadata": {
        "id": "2PDuq7v-0SqX"
      },
      "source": [
        "### ***Excercise-1***"
      ]
    },
    {
      "cell_type": "markdown",
      "metadata": {
        "id": "iI_EbinKFawR"
      },
      "source": [
        ""
      ]
    },
    {
      "cell_type": "markdown",
      "metadata": {
        "id": "O-NeIgkiGFzj"
      },
      "source": [
        "1(a) Sample program"
      ]
    },
    {
      "cell_type": "code",
      "metadata": {
        "colab": {
          "base_uri": "https://localhost:8080/"
        },
        "id": "n71tnI3qFsGs",
        "outputId": "8b5cb633-77e4-4e82-a7d9-88df69087501"
      },
      "source": [
        "print(\"welcome\")\n",
        "print(\"Im a learner\")\n",
        "u=10\n",
        "print(u)"
      ],
      "execution_count": null,
      "outputs": [
        {
          "output_type": "stream",
          "text": [
            "welcome\n",
            "Im a learner\n",
            "10\n"
          ],
          "name": "stdout"
        }
      ]
    },
    {
      "cell_type": "markdown",
      "metadata": {
        "id": "O1qukwsKFkfS"
      },
      "source": [
        "1(b) write a program to find the big value in given values"
      ]
    },
    {
      "cell_type": "code",
      "metadata": {
        "id": "iTaho_Um0JJB",
        "colab": {
          "base_uri": "https://localhost:8080/"
        },
        "outputId": "3c64d6f0-1065-409e-ebd4-a339194cfc1c"
      },
      "source": [
        "\n",
        "u=10\n",
        "v=20\n",
        "if u>v:\n",
        " print(\"u is big\")\n",
        "else:\n",
        " print(\"v is big\")\n",
        "\n"
      ],
      "execution_count": null,
      "outputs": [
        {
          "output_type": "stream",
          "text": [
            "v is big\n"
          ],
          "name": "stdout"
        }
      ]
    },
    {
      "cell_type": "markdown",
      "metadata": {
        "id": "QAqQMIABD4su"
      },
      "source": [
        "### ***Excercise-2***\n",
        "\n"
      ]
    },
    {
      "cell_type": "markdown",
      "metadata": {
        "id": "9moARDpNGjIv"
      },
      "source": [
        "2(a) Write a program to compute distance between two points"
      ]
    },
    {
      "cell_type": "code",
      "metadata": {
        "id": "Ljii4L8kMW1N",
        "colab": {
          "base_uri": "https://localhost:8080/"
        },
        "outputId": "facd9f73-e541-40f5-a447-934f41fb8eaa"
      },
      "source": [
        "import math\n",
        "m=int(input(\"Enter m = \"))\n",
        "n=int(input(\"Enter n = \"))\n",
        "u=int(input(\"Enter u = \"))\n",
        "v=int(input(\"Enter v = \"))\n",
        "dis=math.sqrt(((n-m)**2)+((v-u)**2))\n",
        "print(\"Two points Distance is :\",dis)"
      ],
      "execution_count": null,
      "outputs": [
        {
          "output_type": "stream",
          "text": [
            "Enter m = 3\n",
            "Enter n = 7\n",
            "Enter u = 4\n",
            "Enter v = 10\n",
            "Two points Distance is : 7.211102550927978\n"
          ],
          "name": "stdout"
        }
      ]
    },
    {
      "cell_type": "markdown",
      "metadata": {
        "id": "Cqch0pt7GmvI"
      },
      "source": [
        ""
      ]
    },
    {
      "cell_type": "markdown",
      "metadata": {
        "id": "mZ52t5s1Gwo6"
      },
      "source": [
        "# ***Excercise-3***"
      ]
    },
    {
      "cell_type": "markdown",
      "metadata": {
        "id": "neYU771zHJ-h"
      },
      "source": [
        "3(a) write a program for checking whether given number is even or not"
      ]
    },
    {
      "cell_type": "code",
      "metadata": {
        "colab": {
          "base_uri": "https://localhost:8080/"
        },
        "id": "mHOPxN3qHYZ_",
        "outputId": "c0861167-520b-4945-8e1e-04f11be06e8e"
      },
      "source": [
        "num=int(input(\"Enter value:\"))\n",
        "if (num%2!=0):\n",
        "  print(num,\"is an ODD number\")\n",
        "else:\n",
        "  print(num,\"is an EVEN number\")\n"
      ],
      "execution_count": null,
      "outputs": [
        {
          "output_type": "stream",
          "text": [
            "Enter value:4\n",
            "4 is an EVEN number\n"
          ],
          "name": "stdout"
        }
      ]
    },
    {
      "cell_type": "markdown",
      "metadata": {
        "id": "H_bm4-SFe3vo"
      },
      "source": [
        "3(b)Write a program to print decimal equivalants 1/2,1/3.....1/10 using loop"
      ]
    },
    {
      "cell_type": "code",
      "metadata": {
        "colab": {
          "base_uri": "https://localhost:8080/"
        },
        "id": "Ccjkpv4le-Zk",
        "outputId": "71776cca-51d5-4153-be21-fac31ae5f307"
      },
      "source": [
        "n=int(input(\"ENTER  NUMBER\"))\n",
        "for i in range(2,n):\n",
        "     d=1/i \n",
        "     print(\"1/\"+str(i)+\"=\",d)"
      ],
      "execution_count": null,
      "outputs": [
        {
          "output_type": "stream",
          "text": [
            "ENTER  NUMBER10\n",
            "1/2= 0.5\n",
            "1/3= 0.3333333333333333\n",
            "1/4= 0.25\n",
            "1/5= 0.2\n",
            "1/6= 0.16666666666666666\n",
            "1/7= 0.14285714285714285\n",
            "1/8= 0.125\n",
            "1/9= 0.1111111111111111\n"
          ],
          "name": "stdout"
        }
      ]
    },
    {
      "cell_type": "markdown",
      "metadata": {
        "id": "6pEN6g15fP03"
      },
      "source": [
        "3(C)write a program using for loop that loops over sequence"
      ]
    },
    {
      "cell_type": "code",
      "metadata": {
        "colab": {
          "base_uri": "https://localhost:8080/"
        },
        "id": "berjTT29fVfA",
        "outputId": "92efaf45-ecf7-4f2a-8a5c-99bb445ac938"
      },
      "source": [
        "array=[50,\"abc\",'k',-50]\n",
        "print(\"array is:\",array)\n",
        "for i in array:\n",
        " print(i)"
      ],
      "execution_count": null,
      "outputs": [
        {
          "output_type": "stream",
          "text": [
            "array is: [50, 'abc', 'k', -50]\n",
            "50\n",
            "abc\n",
            "k\n",
            "-50\n"
          ],
          "name": "stdout"
        }
      ]
    },
    {
      "cell_type": "markdown",
      "metadata": {
        "id": "LDQWpAZFfcw6"
      },
      "source": [
        "3(D)write a program using for loop that asks user for a number , and prints a coountdowwn  from that number to zero"
      ]
    },
    {
      "cell_type": "code",
      "metadata": {
        "colab": {
          "base_uri": "https://localhost:8080/"
        },
        "id": "OF8cebSyffr9",
        "outputId": "c5a4c80e-53b5-4c4c-f248-a362212a0975"
      },
      "source": [
        "num=int(input(\"enter the value:\"))\n",
        "while num>=0:\n",
        " print(num)\n",
        " num-=1\n"
      ],
      "execution_count": null,
      "outputs": [
        {
          "output_type": "stream",
          "text": [
            "enter the value:10\n",
            "10\n",
            "9\n",
            "8\n",
            "7\n",
            "6\n",
            "5\n",
            "4\n",
            "3\n",
            "2\n",
            "1\n",
            "0\n"
          ],
          "name": "stdout"
        }
      ]
    },
    {
      "cell_type": "markdown",
      "metadata": {
        "id": "m9ifvc9xgL6J"
      },
      "source": [
        ""
      ]
    },
    {
      "cell_type": "markdown",
      "metadata": {
        "id": "w0cxXT6OgOT-"
      },
      "source": [
        "## ***Excercise-4***"
      ]
    },
    {
      "cell_type": "markdown",
      "metadata": {
        "id": "LhZOmajBj6cd"
      },
      "source": [
        "4[A]Sum of all primes"
      ]
    },
    {
      "cell_type": "code",
      "metadata": {
        "colab": {
          "base_uri": "https://localhost:8080/"
        },
        "id": "MaRTq-55i97z",
        "outputId": "e0ef50a7-7531-466d-d0c1-ec076225afb9"
      },
      "source": [
        "n=int(input(\"ENTER ENDING NUMBER\"))\n",
        "\n",
        "st=\"\"\n",
        "sum=0\n",
        "\n",
        "for i in range(2,n):\n",
        "        \n",
        "    state=True\n",
        "    for j in range(2,i):\n",
        "        if(i%j)==0:\n",
        "            state=False\n",
        "            break;\n",
        "    if state==True:\n",
        "        st+=\" \"+str(i)\n",
        "                \n",
        "        sum+=i\n",
        "print(\"Prime numbers\")\n",
        "print(st)\n",
        "print(\"sum of Prime numbers \",sum)"
      ],
      "execution_count": null,
      "outputs": [
        {
          "output_type": "stream",
          "text": [
            "ENTER ENDING NUMBER1000\n",
            "Prime numbers\n",
            " 2 3 5 7 11 13 17 19 23 29 31 37 41 43 47 53 59 61 67 71 73 79 83 89 97 101 103 107 109 113 127 131 137 139 149 151 157 163 167 173 179 181 191 193 197 199 211 223 227 229 233 239 241 251 257 263 269 271 277 281 283 293 307 311 313 317 331 337 347 349 353 359 367 373 379 383 389 397 401 409 419 421 431 433 439 443 449 457 461 463 467 479 487 491 499 503 509 521 523 541 547 557 563 569 571 577 587 593 599 601 607 613 617 619 631 641 643 647 653 659 661 673 677 683 691 701 709 719 727 733 739 743 751 757 761 769 773 787 797 809 811 821 823 827 829 839 853 857 859 863 877 881 883 887 907 911 919 929 937 941 947 953 967 971 977 983 991 997\n",
            "sum of Prime numbers  76127\n"
          ],
          "name": "stdout"
        }
      ]
    },
    {
      "cell_type": "markdown",
      "metadata": {
        "id": "creSv3ndgl3M"
      },
      "source": [
        "4(B)Fibonnacci sequence is generated by adding previous last two numbers .by starting with 1 and 2,the first terms will be 1,2,3,5,8,13,21,34,55....."
      ]
    },
    {
      "cell_type": "code",
      "metadata": {
        "colab": {
          "base_uri": "https://localhost:8080/"
        },
        "id": "aT6iNsTpgrqh",
        "outputId": "44bd34c3-a523-4954-eb88-9d4da1db0f3a"
      },
      "source": [
        "n=int(input(\"enter value of n=\"))\n",
        "x=0\n",
        "y=1 \n",
        "z=x+y\n",
        "while z<n:\n",
        "    print(z,end=' ')\n",
        "    x=y\n",
        "    y=z \n",
        "    z=x+y"
      ],
      "execution_count": null,
      "outputs": [
        {
          "output_type": "stream",
          "text": [
            "enter value of n=1000\n",
            "1 2 3 5 8 13 21 34 55 89 144 233 377 610 987 "
          ],
          "name": "stdout"
        }
      ]
    },
    {
      "cell_type": "markdown",
      "metadata": {
        "id": "IHPsnqBBg5Ct"
      },
      "source": [
        "4(C)fibbonacci sequence whose values do not exceed four million ,find sum of even valued terms\n"
      ]
    },
    {
      "cell_type": "code",
      "metadata": {
        "colab": {
          "base_uri": "https://localhost:8080/"
        },
        "id": "PZ-EbeJHg-YB",
        "outputId": "33ecdb3a-e9cc-44ee-91d3-d26189218f16"
      },
      "source": [
        "n=int(input(\"enter n value =\"))\n",
        "x=0\n",
        "y=1 \n",
        "z=x+y\n",
        "s=0\n",
        "print(\"even numbers =\",end='')\n",
        "while z<=n:\n",
        " if z%2==0:\n",
        "  print(z,end='')\n",
        "  s+=z\n",
        " x=y\n",
        " y=z \n",
        " z=x+y \n",
        "print(\"\\nsum of fibonnacci series=\",s)"
      ],
      "execution_count": null,
      "outputs": [
        {
          "output_type": "stream",
          "text": [
            "enter n value =4000000\n",
            "even numbers =2834144610258410946463681964188320403524578\n",
            "sum of fibonnacci series= 4613732\n"
          ],
          "name": "stdout"
        }
      ]
    },
    {
      "cell_type": "markdown",
      "metadata": {
        "id": "fFe0ctxOhHj5"
      },
      "source": [
        "# ***Excercise-5***"
      ]
    },
    {
      "cell_type": "markdown",
      "metadata": {
        "id": "BHu6OxN3hN5f"
      },
      "source": [
        "5(A)write a program to count the number of characters in the string and store them in dictionary datastructure"
      ]
    },
    {
      "cell_type": "code",
      "metadata": {
        "colab": {
          "base_uri": "https://localhost:8080/"
        },
        "id": "16K0XyEyhVh8",
        "outputId": "6f64d2fb-0ff7-494c-8f88-2cb35d05fb7a"
      },
      "source": [
        "name=input(\"enter Name\")\n",
        "dic={}\n",
        "  \n",
        "for ch in name:\n",
        "  keys=dic.keys()\n",
        "  \n",
        "  if(ch in keys):\n",
        "      \n",
        "    dic[ch]-dic[ch]+1 \n",
        "  else:\n",
        "    dic[ch]=1 \n",
        "  \n",
        "  print(\"dictionary is\",dic)"
      ],
      "execution_count": null,
      "outputs": [
        {
          "output_type": "stream",
          "text": [
            "enter NameVajeeha\n",
            "dictionary is {'V': 1}\n",
            "dictionary is {'V': 1, 'a': 1}\n",
            "dictionary is {'V': 1, 'a': 1, 'j': 1}\n",
            "dictionary is {'V': 1, 'a': 1, 'j': 1, 'e': 1}\n",
            "dictionary is {'V': 1, 'a': 1, 'j': 1, 'e': 1}\n",
            "dictionary is {'V': 1, 'a': 1, 'j': 1, 'e': 1, 'h': 1}\n",
            "dictionary is {'V': 1, 'a': 1, 'j': 1, 'e': 1, 'h': 1}\n"
          ],
          "name": "stdout"
        }
      ]
    },
    {
      "cell_type": "markdown",
      "metadata": {
        "id": "CYJihNO1hloX"
      },
      "source": [
        "5(B) write a program to use split and join methods  in the string and trace a birthday with dictionary datastructure"
      ]
    },
    {
      "cell_type": "code",
      "metadata": {
        "colab": {
          "base_uri": "https://localhost:8080/"
        },
        "id": "QZNEh05dKhGB",
        "outputId": "8637490c-807c-43c1-de65-d4a82ca878b5"
      },
      "source": [
        "dob={\"Vajju\":\"13-june-2002\",\"madhu\":\"01-agust-1999\"}\n",
        "name=input(\"Enter person name= \")\n",
        "  \n",
        "l=name.split()\n",
        "birth=\"\"\n",
        "\n",
        "for i in l: \n",
        "  if i in dob.keys():\n",
        "    pers=i\n",
        "print(\"\".join([pers,\"Birthday is \",dob[pers]]))"
      ],
      "execution_count": null,
      "outputs": [
        {
          "output_type": "stream",
          "text": [
            "Enter person name= Vajju\n",
            "VajjuBirthday is 13-june-2002\n"
          ],
          "name": "stdout"
        }
      ]
    },
    {
      "cell_type": "markdown",
      "metadata": {
        "id": "GzOMbjbT8JoG"
      },
      "source": [
        "# ***Excercise-6***"
      ]
    },
    {
      "cell_type": "markdown",
      "metadata": {
        "id": "OaLegn2J8RnR"
      },
      "source": [
        "6(A)Write a program to combine lists that combines these lists into dictionary"
      ]
    },
    {
      "cell_type": "code",
      "metadata": {
        "colab": {
          "base_uri": "https://localhost:8080/"
        },
        "id": "iPES8qnt9wi-",
        "outputId": "d35c9d7a-fea6-44d4-82f4-bfa38a4edd02"
      },
      "source": [
        "subject=[\"DAA\",\"OS\",\"DBMS\",\"P&S\",\"PPL\",\"SE\"]\n",
        "marks=[94,98,99,95,97,96]\n",
        "print(\"given lists are:\")\n",
        "print(\"Subject name=\",subject)\n",
        "print(\"marks=\",marks)\n",
        "d=dict(zip(subject,marks))\n",
        "print(\"dictonary=\",d)"
      ],
      "execution_count": null,
      "outputs": [
        {
          "output_type": "stream",
          "text": [
            "given lists are:\n",
            "Subject name= ['DAA', 'OS', 'DBMS', 'P&S', 'PPL', 'SE']\n",
            "marks= [94, 98, 99, 95, 97, 96]\n",
            "dictonary= {'DAA': 94, 'OS': 98, 'DBMS': 99, 'P&S': 95, 'PPL': 97, 'SE': 96}\n"
          ],
          "name": "stdout"
        }
      ]
    },
    {
      "cell_type": "markdown",
      "metadata": {
        "id": "QP27NMAL95FX"
      },
      "source": [
        "6(B)write a programto count frequency of charecters in the given file.can you use chrecter frequency to tell whether the given file is a python program file,C program file or a text file"
      ]
    },
    {
      "cell_type": "code",
      "metadata": {
        "id": "enmkdCt2JCV1"
      },
      "source": [
        "ftype=['.py','.c','.txt']\n",
        "fn=input(\"enter the file name\")\n",
        "f=open(fn,\"r\")\n",
        "count=dict()\n",
        "print(\"given file is\",end=\" \")\n",
        "for ft in ftype:\n",
        "  if(ft in fn):\n",
        "    if(ft=='.py'):\n",
        "      print(\"python file\")\n",
        "    elif(ft=='.c'):\n",
        "      print(\"c file\")\n",
        "    else:\n",
        "      print(\"txt file\")\n",
        "for line in f:\n",
        "  for ch in line:\n",
        "    if ch in count:\n",
        "      count[ch]=count[ch]+1\n",
        "    else:\n",
        "      count[ch]=1\n",
        "print(count)\n",
        "f.close()\n"
      ],
      "execution_count": null,
      "outputs": []
    },
    {
      "cell_type": "markdown",
      "metadata": {
        "id": "Cmdg0DUG-JOS"
      },
      "source": [
        "# ***Excercise-7***"
      ]
    },
    {
      "cell_type": "markdown",
      "metadata": {
        "id": "irid2cd3-NwX"
      },
      "source": [
        "7(A)Write a program to print the each line in file in reverse order"
      ]
    },
    {
      "cell_type": "code",
      "metadata": {
        "id": "GL8OSl5bI-tR"
      },
      "source": [
        "obj=open(\"abc.txt\",\"r\")\n",
        "if obj:\n",
        " st=obj.read()\n",
        " print(\"file content is :\\n\",st)\n",
        " obj.close()\n",
        "\n",
        "printf()\n",
        "lines=st.split(\"\\n\")\n",
        "for ln in lines:\n",
        " i=len(ln)-1\n",
        " while(i>=0):\n",
        "  print(ln[i],end='')\n",
        "  i=i-1\n",
        " print()"
      ],
      "execution_count": null,
      "outputs": []
    },
    {
      "cell_type": "markdown",
      "metadata": {
        "id": "O-uyK7zg-9xO"
      },
      "source": [
        "7(B) To compute number of characters,words and letters in file"
      ]
    },
    {
      "cell_type": "code",
      "metadata": {
        "id": "W3bMAVUoI7cg"
      },
      "source": [
        "nc=nw=nl=0\n",
        "file=open(\"abc.txt\",\"r\")\n",
        "nl=nw=nc=0\n",
        "print(\"file content is :\\n\")\n",
        "for line in file:\n",
        "  ln=line.strip(\"\\n\")\n",
        "  print(ln)\n",
        "  words=ln.split()\n",
        "  nl+=1\n",
        "  nw+=len(word)\n",
        "  nc+=len(line)\n",
        "file.close\n",
        "print(\"\\n no of lines\",nl,\"words\",nw,\"character\",nc)"
      ],
      "execution_count": null,
      "outputs": []
    },
    {
      "cell_type": "markdown",
      "metadata": {
        "id": "QN2jQHlZ_e--"
      },
      "source": [
        "# ***Excercise-8***"
      ]
    },
    {
      "cell_type": "markdown",
      "metadata": {
        "id": "6MEKRiLf_nUB"
      },
      "source": [
        "write a function ball collide that takes two balls as parameters and computes if they are collliding. your function should return a boolean representating whether or not the balls are colliding"
      ]
    },
    {
      "cell_type": "code",
      "metadata": {
        "colab": {
          "base_uri": "https://localhost:8080/"
        },
        "id": "b2tS3ckpAMi-",
        "outputId": "a7900376-7ffd-4a80-e0b1-282f4ddb93bc"
      },
      "source": [
        "\n",
        "import math\n",
        "def collide(ball_tup1,ball_tup2):\n",
        "  x1,y1,r1=ball_tup1\n",
        "  x2,y2,r2=ball_tup2\n",
        "  print(\"ball-01: \",ball_tup1)\n",
        "  print(\"ball-02: \",ball_tup2)\n",
        "  d=math.sqrt((x2-x1)**2+(y2-y1)**2)\n",
        "  print(\"centroid  distancee between two blls\",d)\n",
        "  print(\"sum of radius ball-01 and ball -02 is: {}+{}={}\".format(r1,r2,r1+r2))\n",
        "\n",
        "  if d<=r1+r2:\n",
        "    return True\n",
        "  else:\n",
        "    return False\n",
        "\n",
        "b1=(-2,-4,3)\n",
        "b2=(4,6,3)\n",
        "\n",
        "if collide(b1,b2):\n",
        "  print(\"balls collides\")\n",
        "else:\n",
        "  print(\"balls not collide\")"
      ],
      "execution_count": null,
      "outputs": [
        {
          "output_type": "stream",
          "text": [
            "ball-01:  (-2, -4, 3)\n",
            "ball-02:  (4, 6, 3)\n",
            "centroid  distancee between two blls 11.661903789690601\n",
            "sum of radius ball-01 and ball -02 is: 3+3=6\n",
            "balls not collide\n"
          ],
          "name": "stdout"
        }
      ]
    },
    {
      "cell_type": "markdown",
      "metadata": {
        "id": "37nWDd2jAc8X"
      },
      "source": [
        "8(B)Find mean and mode of given list"
      ]
    },
    {
      "cell_type": "code",
      "metadata": {
        "colab": {
          "base_uri": "https://localhost:8080/"
        },
        "id": "MiLCBTSjAmrS",
        "outputId": "9bfcfcf4-bd46-49b4-a254-c33e806ac186"
      },
      "source": [
        "def list_mean(num_list):\n",
        " return sum(num_list)/len(num_list) \n",
        "def list_median(num_list): \n",
        "  num_list.sort()\n",
        "  n=len(num_list)\n",
        "  mid=n/2\n",
        "  if (n%2==1):\n",
        "    return num_list[mid]\n",
        "  else:\n",
        "    mid\n",
        "    return (num_list[mid-1]+num_list[mid])/2\n",
        "def list_mode(num_list):\n",
        "  num_list.sort()\n",
        "  temp=[]\n",
        "\n",
        "  i=0\n",
        "  while i<len(num_list):\n",
        "    temp.append(num_list.count(num_list[i]))\n",
        "    i+=1\n",
        "\n",
        "  dic=dict(zip(num_list,temp))\n",
        "  mode={k for(k,v) in dic.items() if v==max(temp)}\n",
        "  return mode\n",
        "  \n",
        "lst=[1,1,2,2,2,3,4,5,3]\n",
        "\n",
        "\n",
        "print(\"given list is:\",lst)\n",
        "print(\"mean of given list is:\",list_mean(lst))\n",
        "\n",
        "print(\"mode of given list is:\",list_mode(lst))\n",
        "\n"
      ],
      "execution_count": null,
      "outputs": [
        {
          "output_type": "stream",
          "text": [
            "given list is: [1, 1, 2, 2, 2, 3, 4, 5, 3]\n",
            "mean of given list is: 2.5555555555555554\n",
            "mode of given list is: {2}\n"
          ],
          "name": "stdout"
        }
      ]
    },
    {
      "cell_type": "markdown",
      "metadata": {
        "id": "PXziZXtqBTn5"
      },
      "source": [
        "# ***Excercise-9***"
      ]
    },
    {
      "cell_type": "markdown",
      "metadata": {
        "id": "mPFO0RizBZi3"
      },
      "source": [
        "9(a) equal or not"
      ]
    },
    {
      "cell_type": "code",
      "metadata": {
        "colab": {
          "base_uri": "https://localhost:8080/"
        },
        "id": "GsPNvmiDBkTB",
        "outputId": "3779e9aa-b2a6-429e-981f-a518d9c85ebf"
      },
      "source": [
        "def nearly_eq(str1,str2):\n",
        "  count=0\n",
        "  i=j=0\n",
        "  while(i<len(str1) and j<len(str2)):\n",
        "   if (str1[i]!=str2[j]):\n",
        "      count+=1\n",
        "      if(len(str1)>len(str2)):\n",
        "        i+=1\n",
        "      elif(len(str1)-len(str2)):\n",
        "         pass\n",
        "      else:\n",
        "         i-=1\n",
        "   if(count>1):\n",
        "         return False\n",
        "         i+=1\n",
        "         j+=1\n",
        "   if(count<2):\n",
        "      return True\n",
        "s1=input(\"Enter String1: \")\n",
        "s2=input(\"Enter String2: \")\n",
        "bln=nearly_eq(s1,s2)\n",
        "if(bln):\n",
        "   print(\"Strings are nearly equal.\")\n",
        "else:\n",
        "   print(\"String are NOT equal.\") \n"
      ],
      "execution_count": null,
      "outputs": [
        {
          "output_type": "stream",
          "text": [
            "Enter String1: aa bbb\n",
            "Enter String2: aa\n",
            "Strings are nearly equal.\n"
          ],
          "name": "stdout"
        }
      ]
    },
    {
      "cell_type": "markdown",
      "metadata": {
        "id": "R5ABXJX7CPy3"
      },
      "source": [
        "find duplicates in list"
      ]
    },
    {
      "cell_type": "code",
      "metadata": {
        "colab": {
          "base_uri": "https://localhost:8080/"
        },
        "id": "tWDGsGXwCZNx",
        "outputId": "6f14a6e4-52a9-43b0-a6cc-41f47a5f12ec"
      },
      "source": [
        "def dups(numlist):\n",
        "    temp=[]\n",
        "    for i in numlist:\n",
        "        cnt=numlist.count(i)\n",
        "        if(cnt>1 and (i not in temp)):\n",
        "            temp.append(i)\n",
        "    print(\"Duplicates in the list: \",temp)\n",
        "   \n",
        "lst=[1,2,6,9,1,3,5,2,1]\n",
        "print(\"Given elements in the list: \",lst)\n",
        "dups(lst)\n"
      ],
      "execution_count": null,
      "outputs": [
        {
          "output_type": "stream",
          "text": [
            "Given elements in the list:  [1, 2, 6, 9, 1, 3, 5, 2, 1]\n",
            "Duplicates in the list:  [1, 2]\n"
          ],
          "name": "stdout"
        }
      ]
    },
    {
      "cell_type": "markdown",
      "metadata": {
        "id": "z--Pb8wYKo7i"
      },
      "source": [
        "# ***Excercise-10***"
      ]
    },
    {
      "cell_type": "markdown",
      "metadata": {
        "id": "5ijJFP1uKx0k"
      },
      "source": [
        "10(A)To compute comulate product list of numbers"
      ]
    },
    {
      "cell_type": "code",
      "metadata": {
        "colab": {
          "base_uri": "https://localhost:8080/"
        },
        "id": "FF1bFNDlK_Ab",
        "outputId": "fb38c5fc-a6c6-407d-8855-d7d9c0eabd05"
      },
      "source": [
        "def cum_pro(numlist):\n",
        "  pro=1\n",
        "  temp=[]\n",
        "  for i in numlist:\n",
        "    pro*=i\n",
        "    temp.append(pro)\n",
        "  return temp\n",
        "lst=[10,40,2,4,3]\n",
        "print(\"list=\",lst)\n",
        "print(\"cumulative product=\",cum_pro(lst))\n",
        "\n"
      ],
      "execution_count": null,
      "outputs": [
        {
          "output_type": "stream",
          "text": [
            "list= [10, 40, 2, 4, 3]\n",
            "cumulative product= [10, 400, 800, 3200, 9600]\n"
          ],
          "name": "stdout"
        }
      ]
    },
    {
      "cell_type": "markdown",
      "metadata": {
        "id": "pYe-UrjjLdRp"
      },
      "source": [
        "10(b) write a reverse function to reverse the list without using reverse function"
      ]
    },
    {
      "cell_type": "code",
      "metadata": {
        "colab": {
          "base_uri": "https://localhost:8080/"
        },
        "id": "7r8Hrl9_MAzi",
        "outputId": "194d0540-8a7c-4d92-c9d8-f469544d59d1"
      },
      "source": [
        "def rev_lst(numlist):\n",
        "  i=0\n",
        "  j=len(numlist)-1\n",
        "  while(i<=j):\n",
        "    temp=numlist[i]\n",
        "    numlist[i]=numlist[j]\n",
        "    numlist[j]=temp\n",
        "    j-=1\n",
        "    i+=1\n",
        "  return numlist\n",
        "lst=[10,0,30,400,5]\n",
        "print(\"list=\",lst)\n",
        "rev_lst(lst)\n",
        "print(\"reverse list=\",lst)\n"
      ],
      "execution_count": null,
      "outputs": [
        {
          "output_type": "stream",
          "text": [
            "list= [10, 0, 30, 400, 5]\n",
            "reverse list= [5, 400, 30, 0, 10]\n"
          ],
          "name": "stdout"
        }
      ]
    },
    {
      "cell_type": "markdown",
      "metadata": {
        "id": "uE0tYBSsMGs2"
      },
      "source": [
        "10(C) To compute gcd,lcm of two numbers. each function should not exceed one line"
      ]
    },
    {
      "cell_type": "code",
      "metadata": {
        "colab": {
          "base_uri": "https://localhost:8080/"
        },
        "id": "j7zjHisiMdmd",
        "outputId": "38f075d2-2a8a-45a9-86db-9228475f2cad"
      },
      "source": [
        "gcd=lambda a,b:a if b==0 else gcd(a,a%b)\n",
        "lcm=lambda a,b:(a*b)/gcd(a,b)\n",
        "x=5\n",
        "y=25\n",
        "print(\"Given numbers=\",x,y)\n",
        "print(\"GCD=\",gcd(x,y))\n",
        "print(\"LCM=\",lcm(x,y))"
      ],
      "execution_count": null,
      "outputs": [
        {
          "output_type": "stream",
          "text": [
            "Given numbers= 5 25\n",
            "GCD= 5\n",
            "LCM= 25.0\n"
          ],
          "name": "stdout"
        }
      ]
    },
    {
      "cell_type": "markdown",
      "metadata": {
        "id": "3cAKq4b6Mg-B"
      },
      "source": [
        "# ***Excercise-11***"
      ]
    },
    {
      "cell_type": "markdown",
      "metadata": {
        "id": "ptAp9TtZMlrG"
      },
      "source": [
        "11(A) program defines a matrixs and print"
      ]
    },
    {
      "cell_type": "code",
      "metadata": {
        "colab": {
          "base_uri": "https://localhost:8080/"
        },
        "id": "iw7LJRo8Mx6j",
        "outputId": "2b71d1c0-9905-49b7-e626-a18fec98eed9"
      },
      "source": [
        "mataA=[[]]\n",
        "rows=int(input(\"enter row size of matrix \"))\n",
        "cols=int(input(\"enter cols size of matrix \"))\n",
        "\n",
        "matA=[[int(input(\"enter [%d,%d]value:\"%(i,j)))for j in range(cols)]for i in range(rows)]\n",
        "\n",
        "print(\"matrix is\")\n",
        "for i in range(rows):\n",
        " for j in range(cols):\n",
        "     print(matA[i][j],end='\\t')\n",
        " print()\n"
      ],
      "execution_count": null,
      "outputs": [
        {
          "output_type": "stream",
          "text": [
            "enter row size of matrix 2\n",
            "enter cols size of matrix 2\n",
            "enter [0,0]value:2\n",
            "enter [0,1]value:2\n",
            "enter [1,0]value:2\n",
            "enter [1,1]value:2\n",
            "matrix is\n",
            "2\t2\t\n",
            "2\t2\t\n"
          ],
          "name": "stdout"
        }
      ]
    },
    {
      "cell_type": "markdown",
      "metadata": {
        "id": "29HM3VDaM4k-"
      },
      "source": [
        "11(B) Addition of two square matrix"
      ]
    },
    {
      "cell_type": "code",
      "metadata": {
        "colab": {
          "base_uri": "https://localhost:8080/"
        },
        "id": "mAKSbnopNCBn",
        "outputId": "7ba0d8f9-0938-4738-8d12-8f5008a25594"
      },
      "source": [
        "def matRead(r,c):\n",
        "  return[[int(input(\" [%d,%d]value:\"%(i,j)))for j in range(c)]for i in range(r)]\n",
        "def matDisp(mat,r,c):\n",
        "  for i in range(r):\n",
        "   for j in range(c):\n",
        "    print(mat[i][j],end='\\t')\n",
        "   print()\n",
        "\n",
        "matA=[[]]\n",
        "matB=[[]]\n",
        "matSum=[[]]\n",
        "rows=int(input(\"enter row size of matrix\"))\n",
        "cols=int(input(\"enter col size\"))\n",
        "if rows==cols:\n",
        "  print(\"Enter matrix a elements\")\n",
        "  matA=matRead(rows,cols)\n",
        "\n",
        "  print(\"Enter matrix b elements\")\n",
        "  matB=matRead(rows,cols)\n",
        "\n",
        "  print(\" matrix a Is\")\n",
        "  matDisp(matA,rows,cols)\n",
        "\n",
        "  print(\" matrix b Is\")\n",
        "  matDisp(matB,rows,cols)\n",
        "\n",
        "  matSum=[[matA[i][j]+matB[i][j] for j in range(cols)] for i in range (rows)]\n",
        "\n",
        "  print(\"sum of matrix\")\n",
        "  matDisp(matSum,rows,cols)\n",
        "else:\n",
        "  print(\"Matrices addition is not possiblre\")\n",
        "\n",
        "\n"
      ],
      "execution_count": null,
      "outputs": [
        {
          "output_type": "stream",
          "text": [
            "enter row size of matrix2\n",
            "enter col size2\n",
            "Enter matrix a elements\n",
            " [0,0]value:2\n",
            " [0,1]value:2\n",
            " [1,0]value:2\n",
            " [1,1]value:2\n",
            "Enter matrix b elements\n",
            " [0,0]value:2\n",
            " [0,1]value:2\n",
            " [1,0]value:2\n",
            " [1,1]value:2\n",
            " matrix a Is\n",
            "2\t2\t\n",
            "2\t2\t\n",
            " matrix b Is\n",
            "2\t2\t\n",
            "2\t2\t\n",
            "sum of matrix\n",
            "4\t4\t\n",
            "4\t4\t\n"
          ],
          "name": "stdout"
        }
      ]
    },
    {
      "cell_type": "markdown",
      "metadata": {
        "id": "YeB8kIRWNXvP"
      },
      "source": [
        "11(c) Multiplication of matrix"
      ]
    },
    {
      "cell_type": "code",
      "metadata": {
        "colab": {
          "base_uri": "https://localhost:8080/"
        },
        "id": "PebTIYj5NfqX",
        "outputId": "6a60b041-f747-43da-aea4-e83238892dce"
      },
      "source": [
        "def matRead(r,c):\n",
        "  return[[int(input(\"[%d,%d]value:\"%(i,j)))for j in range(c)]for i in range(r)]\n",
        "def matDisp(mat,r,c):\n",
        "  for i in range(r):\n",
        "   for j in range(c):\n",
        "    print(mat[i][j],end='\\t')\n",
        "   print()\n",
        "\n",
        "matA=[[]]\n",
        "matB=[[]]\n",
        "matMul=[[]]\n",
        "rows=int(input(\"enter row size of matrix\"))\n",
        "cols=int(input(\"enter col size\"))\n",
        "if rows==cols:\n",
        "  print(\"Enter matrix a elements\")\n",
        "  matA=matRead(rows,cols)\n",
        "\n",
        "  print(\"Enter matrix b elements\")\n",
        "  matB=matRead(rows,cols)\n",
        "\n",
        "  matMul=[[0 for j in range(cols)] for i in range (rows)]\n",
        "  for i in range(rows):\n",
        "   for j in range(cols):\n",
        "    for k in range(cols):\n",
        "      matMul[i][j]+=matA[i][k]*matB[k][j]\n",
        "\n",
        "\n",
        "\n",
        "  print(\" matrix a Is\")\n",
        "  matDisp(matA,rows,cols)\n",
        "\n",
        "  print(\" matrix b Is\")\n",
        "  matDisp(matB,rows,cols)\n",
        "\n",
        "  print(\"mul of matrix\")\n",
        "  matDisp(matMul,rows,cols)\n",
        "else:\n",
        "  print(\"Matrices MUL is not possiblre\")"
      ],
      "execution_count": null,
      "outputs": [
        {
          "output_type": "stream",
          "text": [
            "enter row size of matrix2\n",
            "enter col size2\n",
            "Enter matrix a elements\n",
            "[0,0]value:2\n",
            "[0,1]value:2\n",
            "[1,0]value:2\n",
            "[1,1]value:2\n",
            "Enter matrix b elements\n",
            "[0,0]value:2\n",
            "[0,1]value:2\n",
            "[1,0]value:2\n",
            "[1,1]value:2\n",
            " matrix a Is\n",
            "2\t2\t\n",
            "2\t2\t\n",
            " matrix b Is\n",
            "2\t2\t\n",
            "2\t2\t\n",
            "mul of matrix\n",
            "8\t8\t\n",
            "8\t8\t\n"
          ],
          "name": "stdout"
        }
      ]
    },
    {
      "cell_type": "markdown",
      "metadata": {
        "id": "Wpb3lFmPewWS"
      },
      "source": [
        "# ***Excercise-12***"
      ]
    },
    {
      "cell_type": "markdown",
      "metadata": {
        "id": "4aVXmejUe28g"
      },
      "source": [
        "12(B) Script and imports  requests and fetch content from page"
      ]
    },
    {
      "cell_type": "code",
      "metadata": {
        "id": "MG1ix310fUGk"
      },
      "source": [
        "import requests\n",
        "r=requests.get('https://www.google.com')\n",
        "\n",
        "print(\"status code:\",r.status_code)\n",
        "\n",
        "print(\"header content:\",r.headers['content-type'])\n",
        "print(r.text)"
      ],
      "execution_count": null,
      "outputs": []
    },
    {
      "cell_type": "markdown",
      "metadata": {
        "id": "LUFJoeWOfU6-"
      },
      "source": [
        "12(C)simple  script that serves simple HTTP Response and HTML page"
      ]
    },
    {
      "cell_type": "code",
      "metadata": {
        "id": "PVsh3uj5oKMV"
      },
      "source": [
        "from flask import Flask,render_template\n",
        "app=Flask(__name__)\n",
        "print(app)\n",
        "@app.route(\"/\")\n",
        "def main():\n",
        "  return render_template('login.html')\n",
        "\n",
        "if__name__==\"__main__\":\n",
        "  app.run(host=\"127.0.0.1\",port=2500)"
      ],
      "execution_count": null,
      "outputs": []
    },
    {
      "cell_type": "markdown",
      "metadata": {
        "id": "jABhmkRK89wI"
      },
      "source": [
        "# ***Excercise-13***"
      ]
    },
    {
      "cell_type": "markdown",
      "metadata": {
        "id": "EsvEHJZI9BjM"
      },
      "source": [
        "13(A)Class variable and instance variable ,illustrate the self-variable"
      ]
    },
    {
      "cell_type": "markdown",
      "metadata": {
        "id": "Qt-nmE3LMQV2"
      },
      "source": [
        "ROBOT"
      ]
    },
    {
      "cell_type": "code",
      "metadata": {
        "colab": {
          "base_uri": "https://localhost:8080/"
        },
        "id": "UPAcctfm9mor",
        "outputId": "4942ec18-bdc8-4721-842b-b86a2f342b01"
      },
      "source": [
        "class  Robot:\n",
        "   what=\"MACHINE\"\n",
        "   name=\"MOHAMMED\"\n",
        "   version=1.0\n",
        "   speed=\"1THz\"\n",
        "   memory=\"1ZB\"\n",
        "   \n",
        "   \n",
        "   def update(upd):\n",
        "     upd.version-2.0\n",
        "     upd.speed=\"2THz\"\n",
        "     upd.memory=\"2ZB\"\n",
        "     \n",
        "   def disp(self):\n",
        "     print(\"Im\",robj.what)\n",
        "     print(\"Name\",robj.name)\n",
        "     print(\"Version\",robj.version)\n",
        "     print(\"Speed\",robj.speed)\n",
        "     print(\"Memory\",robj.memory)\n",
        "\n",
        "robj=Robot()\n",
        "robj.disp()\n",
        "\n",
        "print(\"---UPDATE----\")\n",
        "robj.update()\n",
        "robj.disp()\n"
      ],
      "execution_count": null,
      "outputs": [
        {
          "output_type": "stream",
          "text": [
            "Im MACHINE\n",
            "Name MOHAMMED\n",
            "Version 1.0\n",
            "Speed 1THz\n",
            "Memory 1ZB\n",
            "---UPDATE----\n",
            "Im MACHINE\n",
            "Name MOHAMMED\n",
            "Version 1.0\n",
            "Speed 2THz\n",
            "Memory 2ZB\n"
          ],
          "name": "stdout"
        }
      ]
    },
    {
      "cell_type": "markdown",
      "metadata": {
        "id": "CCgAUy7bLpHy"
      },
      "source": [
        "13(B)ATM\n",
        "\n",
        "\n"
      ]
    },
    {
      "cell_type": "code",
      "metadata": {
        "colab": {
          "base_uri": "https://localhost:8080/"
        },
        "id": "08ehFOExAaWv",
        "outputId": "2b229dec-08e3-4c48-ca97-2e9fd88a55c1"
      },
      "source": [
        "class Atm:\n",
        "    def __init__(self):\n",
        "       self.balance=0\n",
        "       \n",
        "    def enquire(self):\n",
        "       print(\"balance\",self.balance)\n",
        "       \n",
        "    def deposit(self):\n",
        "       amount=int(input(\"Enter deposite amount=\"))\n",
        "       self.balance+=amount\n",
        "       self.enquire()\n",
        "\n",
        "    def withdraw(self):\n",
        "       amount=int(input(\"Enter withdraw amount=\"))\n",
        "       if self.balance<amount:\n",
        "        print(\"Insufficient balance\")\n",
        "       else:\n",
        "        self.balance-=amount\n",
        "        self.enquire()\n",
        "\n",
        "aobj=Atm()\n",
        "while(True):\n",
        "    print(\"----------Menu----------\")\n",
        "    print(\"1.Deposite\")\n",
        "    print(\"2.Withdraw\")\n",
        "    print(\"3.Balance\")\n",
        "    print(\"0.Exit\")\n",
        "\n",
        "    ch=int(input(\"Enter your choice=\"))\n",
        "\n",
        "    if ch==0:\n",
        "        break\n",
        "    elif ch==1:\n",
        "        aobj.deposit()\n",
        "    elif ch==2:\n",
        "        aobj.withdraw()\n",
        "    elif ch==3:\n",
        "        aobj.enquire()\n",
        "    else:\n",
        "        print(\"Invalid choice\")\n",
        "        pass"
      ],
      "execution_count": null,
      "outputs": [
        {
          "output_type": "stream",
          "text": [
            "----------Menu----------\n",
            "1.Deposite\n",
            "2.Withdraw\n",
            "3.Balance\n",
            "0.Exit\n",
            "Enter your choice=1\n",
            "Enter deposite amount=1000\n",
            "balance 1000\n",
            "----------Menu----------\n",
            "1.Deposite\n",
            "2.Withdraw\n",
            "3.Balance\n",
            "0.Exit\n",
            "Enter your choice=3\n",
            "balance 1000\n",
            "----------Menu----------\n",
            "1.Deposite\n",
            "2.Withdraw\n",
            "3.Balance\n",
            "0.Exit\n",
            "Enter your choice=2\n",
            "Enter withdraw amount=500\n",
            "balance 500\n",
            "----------Menu----------\n",
            "1.Deposite\n",
            "2.Withdraw\n",
            "3.Balance\n",
            "0.Exit\n",
            "Enter your choice=0\n"
          ],
          "name": "stdout"
        }
      ]
    }
  ]
}