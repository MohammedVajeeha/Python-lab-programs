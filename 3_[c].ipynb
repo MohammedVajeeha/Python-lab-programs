{
  "nbformat": 4,
  "nbformat_minor": 0,
  "metadata": {
    "colab": {
      "name": "3-[c]",
      "provenance": [],
      "authorship_tag": "ABX9TyNRKIgptuiRmhFqmnOmcHPd",
      "include_colab_link": true
    },
    "kernelspec": {
      "name": "python3",
      "display_name": "Python 3"
    },
    "language_info": {
      "name": "python"
    }
  },
  "cells": [
    {
      "cell_type": "markdown",
      "metadata": {
        "id": "view-in-github",
        "colab_type": "text"
      },
      "source": [
        "<a href=\"https://colab.research.google.com/github/MohammedVajeeha/Python-lab-programs/blob/main/3_%5Bc%5D.ipynb\" target=\"_parent\"><img src=\"https://colab.research.google.com/assets/colab-badge.svg\" alt=\"Open In Colab\"/></a>"
      ]
    },
    {
      "cell_type": "code",
      "metadata": {
        "id": "OXabIfi4egtB"
      },
      "source": [
        "write a program using for loop that loops over sequence"
      ],
      "execution_count": null,
      "outputs": []
    },
    {
      "cell_type": "code",
      "metadata": {
        "id": "-Cld_h3IekSf"
      },
      "source": [
        "array=[50,\"abc\",'k',-50]\n",
        "print(\"array is:\",array)\n",
        "for i in array:\n",
        " print(i)"
      ],
      "execution_count": null,
      "outputs": []
    }
  ]
}