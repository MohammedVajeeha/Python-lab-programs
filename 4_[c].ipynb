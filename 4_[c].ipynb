{
  "nbformat": 4,
  "nbformat_minor": 0,
  "metadata": {
    "colab": {
      "name": "4-[c]",
      "provenance": [],
      "authorship_tag": "ABX9TyOuTTCsvFuu9p+22vLhEluR",
      "include_colab_link": true
    },
    "kernelspec": {
      "name": "python3",
      "display_name": "Python 3"
    },
    "language_info": {
      "name": "python"
    }
  },
  "cells": [
    {
      "cell_type": "markdown",
      "metadata": {
        "id": "view-in-github",
        "colab_type": "text"
      },
      "source": [
        "<a href=\"https://colab.research.google.com/github/MohammedVajeeha/Python-lab-programs/blob/main/4_%5Bc%5D.ipynb\" target=\"_parent\"><img src=\"https://colab.research.google.com/assets/colab-badge.svg\" alt=\"Open In Colab\"/></a>"
      ]
    },
    {
      "cell_type": "code",
      "metadata": {
        "id": "KxgU_xldmH8V"
      },
      "source": [
        "fibbonacci sequence whose values do not exceed four million ,find sum of even valued terms"
      ],
      "execution_count": null,
      "outputs": []
    },
    {
      "cell_type": "code",
      "metadata": {
        "id": "yFt1WRJqmIWH"
      },
      "source": [
        "n=int(input(\"enter n value =\"))\n",
        "x=0\n",
        "y=1 \n",
        "z=x+y\n",
        "s=0\n",
        "print(\"even numbers =\",end='')\n",
        "while z<=n:\n",
        " if z%2==0:\n",
        "  print(z,end='')\n",
        "  s+=z\n",
        " x=y\n",
        " y=z \n",
        " z=x+y \n",
        "print(\"\\nsum of fibonnacci series=\",s)\n"
      ],
      "execution_count": null,
      "outputs": []
    }
  ]
}