{
  "nbformat": 4,
  "nbformat_minor": 0,
  "metadata": {
    "colab": {
      "name": "4-[a]",
      "provenance": [],
      "authorship_tag": "ABX9TyMJ1wiOo9Q8LKGQDuL2TUII",
      "include_colab_link": true
    },
    "kernelspec": {
      "name": "python3",
      "display_name": "Python 3"
    },
    "language_info": {
      "name": "python"
    }
  },
  "cells": [
    {
      "cell_type": "markdown",
      "metadata": {
        "id": "view-in-github",
        "colab_type": "text"
      },
      "source": [
        "<a href=\"https://colab.research.google.com/github/MohammedVajeeha/Python-lab-programs/blob/main/4_%5Ba%5D.ipynb\" target=\"_parent\"><img src=\"https://colab.research.google.com/assets/colab-badge.svg\" alt=\"Open In Colab\"/></a>"
      ]
    },
    {
      "cell_type": "code",
      "metadata": {
        "id": "3X-eiVdUhL4y"
      },
      "source": [
        "find sum of all prime numbers  below two million"
      ],
      "execution_count": null,
      "outputs": []
    },
    {
      "cell_type": "code",
      "metadata": {
        "id": "jrL-4nB0hMeo"
      },
      "source": [
        "n=int(input(\"ENTER ENDING NUMBER\"))\n",
        "\n",
        "st=\" \"\n",
        "sum=0\n",
        "for i in range(2,n):\n",
        "        \n",
        "    state=True\n",
        "    for j in range(2,i):\n",
        "        if(i%j)==0:\n",
        "            state=False\n",
        "            break;\n",
        "    if state==True:\n",
        "        st+=\" \"+str(i)\n",
        "        sum+=i\n",
        "print(\"Prime numbers\")\n",
        "print(st)\n",
        "print(\"sum of Prime numbers \",sum)\n",
        "        "
      ],
      "execution_count": null,
      "outputs": []
    }
  ]
}