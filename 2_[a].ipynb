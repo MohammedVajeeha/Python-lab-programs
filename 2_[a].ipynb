{
  "nbformat": 4,
  "nbformat_minor": 0,
  "metadata": {
    "colab": {
      "name": "2-[a]",
      "provenance": [],
      "authorship_tag": "ABX9TyN8qWL7Zhu3s4TXd/GTpL/F",
      "include_colab_link": true
    },
    "kernelspec": {
      "name": "python3",
      "display_name": "Python 3"
    },
    "language_info": {
      "name": "python"
    }
  },
  "cells": [
    {
      "cell_type": "markdown",
      "metadata": {
        "id": "view-in-github",
        "colab_type": "text"
      },
      "source": [
        "<a href=\"https://colab.research.google.com/github/MohammedVajeeha/Python-lab-programs/blob/main/2_%5Ba%5D.ipynb\" target=\"_parent\"><img src=\"https://colab.research.google.com/assets/colab-badge.svg\" alt=\"Open In Colab\"/></a>"
      ]
    },
    {
      "cell_type": "code",
      "metadata": {
        "id": "v87rqJzCA98v"
      },
      "source": [
        "Write a program to compute distance between two points"
      ],
      "execution_count": null,
      "outputs": []
    },
    {
      "cell_type": "code",
      "metadata": {
        "id": "8Ev-dH6XBDi7"
      },
      "source": [
        "import math\n",
        "m=int(input(\"Enter m = \"))\n",
        "n=int(input(\"Enter n = \"))\n",
        "u=int(input(\"Enter u = \"))\n",
        "v=int(input(\"Enter v = \"))\n",
        "dis=math.sqrt(((n-m)**2)+((v-u)**2))\n",
        "print(\"Two points Distance is :\",dis)"
      ],
      "execution_count": null,
      "outputs": []
    }
  ]
}